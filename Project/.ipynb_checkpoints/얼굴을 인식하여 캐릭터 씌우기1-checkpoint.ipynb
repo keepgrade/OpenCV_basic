{
 "cells": [
  {
   "cell_type": "markdown",
   "id": "c37da6df",
   "metadata": {},
   "source": [
    "# 프로젝트 : 얼굴을 인식하여 캐릭터 씌우기"
   ]
  },
  {
   "cell_type": "markdown",
   "id": "eba7eba8",
   "metadata": {},
   "source": [
    "# Face Detection VS Face Reconition"
   ]
  },
  {
   "cell_type": "markdown",
   "id": "023626e1",
   "metadata": {},
   "source": [
    "### 패키지 설치\n",
    " > pip install mediapipe"
   ]
  },
  {
   "cell_type": "markdown",
   "id": "22d112ea",
   "metadata": {},
   "source": [
    "### 얼굴인식"
   ]
  },
  {
   "cell_type": "code",
   "execution_count": 26,
   "id": "5912ea02",
   "metadata": {},
   "outputs": [],
   "source": [
    "#라이브러리 설정\n",
    "import cv2\n",
    "import mediapipe as mp\n",
    "\n",
    "#얼굴을 찾고, 찾은 얼굴에 표시를 해주기 위한 변수 정의\n",
    "mp_face_detection = mp.solutions.face_detection  # 얼굴 검출을 위한 face_detection 모듈을 사용\n",
    "mp_drawing = mp.solutions.drawing_utils # 얼굴의 특징을 그리기 위한 drawing_utils 모듈을 사용\n",
    "\n",
    "# 동영상 파일 열기  or 웹캠 열기 가능 장치 ID\n",
    "cap = cv2.VideoCapture('face_video.mp4')\n",
    "\n",
    "with mp_face_detection.FaceDetection(model_selection=0, min_detection_confidence=0.7) as face_detection:\n",
    "    #model_selection 옵션 0 or 1  0일경우 2m 이내 근거리 모델 인식 1일경우 원거리\n",
    "    #min_detection_confidence 0.5 이상일 경우 얼굴로 인식한다 임계값 개념 \n",
    "    \n",
    "    while cap.isOpened():\n",
    "        success, image = cap.read()\n",
    "        if not success:\n",
    "            break\n",
    "\n",
    "        # To improve performance, optionally mark the image as not writeable to\n",
    "        # pass by reference.\n",
    "        image.flags.writeable = False\n",
    "        image = cv2.cvtColor(image, cv2.COLOR_BGR2RGB)# mediapipe 는 RGB기준으로 처리함\n",
    "        results = face_detection.process(image)\n",
    "\n",
    "        # Draw the face detection annotations on the image.\n",
    "        image.flags.writeable = True\n",
    "        image = cv2.cvtColor(image, cv2.COLOR_RGB2BGR)\n",
    "        if results.detections:\n",
    "            #6개 특징 : 오른쪽 눈, 왼쪽 눈, 코 끝부분, 입 중심, 오른쪽 귀, 왼쪽 귀, (귀구슬점, 이주)\n",
    "            for detection in results.detections:\n",
    "                mp_drawing.draw_detection(image, detection)\n",
    "                print(detection)\n",
    "                \n",
    "        # Flip the image horizontally for a selfie-view display.\n",
    "        cv2.imshow('MediaPipe Face Detection', cv2.resize(image, None, fx = 1, fy =1))\n",
    "        \n",
    "        if cv2.waitKey(1) == ord('q'):\n",
    "            break\n",
    "            \n",
    "cap.release()\n",
    "cv2.destroyAllWindows()"
   ]
  },
  {
   "cell_type": "code",
   "execution_count": null,
   "id": "44a7d3eb",
   "metadata": {},
   "outputs": [],
   "source": []
  },
  {
   "cell_type": "markdown",
   "id": "15f44549",
   "metadata": {},
   "source": [
    "## 얼굴 인식후 눈, 코, 입에 동그라미 그리기"
   ]
  },
  {
   "cell_type": "code",
   "execution_count": 8,
   "id": "629ab1fd",
   "metadata": {},
   "outputs": [],
   "source": [
    "#라이브러리 설정\n",
    "import cv2\n",
    "import mediapipe as mp\n",
    "\n",
    "#얼굴을 찾고, 찾은 얼굴에 표시를 해주기 위한 변수 정의\n",
    "mp_face_detection = mp.solutions.face_detection  # 얼굴 검출을 위한 face_detection 모듈을 사용\n",
    "mp_drawing = mp.solutions.drawing_utils # 얼굴의 특징을 그리기 위한 drawing_utils 모듈을 사용\n",
    "\n",
    "# 동영상 파일 열기  or 웹캠 열기 가능 장치 ID\n",
    "cap = cv2.VideoCapture('face_video.mp4')\n",
    "\n",
    "with mp_face_detection.FaceDetection(model_selection=0, min_detection_confidence=0.7) as face_detection:\n",
    "    #model_selection 옵션 0 or 1  0일경우 2m 이내 근거리 모델 인식 1일경우 원거리\n",
    "    #min_detection_confidence 0.5 이상일 경우 얼굴로 인식한다 임계값 개념 \n",
    "    \n",
    "    while cap.isOpened():\n",
    "        success, image = cap.read()\n",
    "        if not success:\n",
    "            break\n",
    "\n",
    "        # To improve performance, optionally mark the image as not writeable to\n",
    "        # pass by reference.\n",
    "        image.flags.writeable = False\n",
    "        image = cv2.cvtColor(image, cv2.COLOR_BGR2RGB)# mediapipe 는 RGB기준으로 처리함\n",
    "        results = face_detection.process(image)\n",
    "\n",
    "        # Draw the face detection annotations on the image.\n",
    "        image.flags.writeable = True\n",
    "        image = cv2.cvtColor(image, cv2.COLOR_RGB2BGR)\n",
    "        if results.detections:\n",
    "            #6개 특징 : 오른쪽 눈, 왼쪽 눈, 코 끝부분, 입 중심, 오른쪽 귀, 왼쪽 귀, (귀구슬점, 이주)\n",
    "            for detection in results.detections:\n",
    "                mp_drawing.draw_detection(image, detection)\n",
    "                #print(detection)\n",
    "                \n",
    "                # 특정 위치 가져오기\n",
    "                keypoints = detection.location_data.relative_keypoints\n",
    "                right_eye = keypoints[0] #오른쪽 눈\n",
    "                left_eye = keypoints[1] #왼쪽 눈\n",
    "                nose_tip = keypoints[2] #코 끝부분\n",
    "                \n",
    "                h, w, _ = image.shape # height, width, channel : 이미지로부터 세로, 가로 크기 가져옴\n",
    "                right_eye = (int(right_eye.x * w), int(right_eye.y * h)) #이미지 내에서 실제 좌표(x,y)\n",
    "                left_eye = (int(left_eye.x * w), int(left_eye.y * h))\n",
    "                nose_tip = (int(nose_tip.x *w), int(nose_tip.y * h))\n",
    "                \n",
    "                \n",
    "                #양 눈에 동그라미 그리기\n",
    "                cv2.circle(image, right_eye, 50, (255, 0, 0), 10, cv2.LINE_AA)\n",
    "                cv2.circle(image, left_eye, 50, (0, 255, 0), 10, cv2.LINE_AA)\n",
    "                # 코에 동그라미 그리기\n",
    "                cv2.circle(image, nose_tip, 50, (0, 255, 255), 10, cv2.LINE_AA)\n",
    "                \n",
    "        # Flip the image horizontally for a selfie-view display.\n",
    "        cv2.imshow('MediaPipe Face Detection', cv2.resize(image, None, fx = 1, fy =1))\n",
    "        \n",
    "        if cv2.waitKey(1) == ord('q'):\n",
    "            break\n",
    "            \n",
    "cap.release()\n",
    "cv2.destroyAllWindows()"
   ]
  },
  {
   "cell_type": "markdown",
   "id": "2012b661",
   "metadata": {},
   "source": [
    "## 얼굴 인식 후 이미지 입히기"
   ]
  },
  {
   "cell_type": "code",
   "execution_count": 14,
   "id": "2b581666",
   "metadata": {},
   "outputs": [
    {
     "ename": "TypeError",
     "evalue": "int() argument must be a string, a bytes-like object or a number, not 'NoneType'",
     "output_type": "error",
     "traceback": [
      "\u001b[1;31m---------------------------------------------------------------------------\u001b[0m",
      "\u001b[1;31mTypeError\u001b[0m                                 Traceback (most recent call last)",
      "\u001b[1;32m~\\AppData\\Local\\Temp/ipykernel_12872/3273417272.py\u001b[0m in \u001b[0;36m<module>\u001b[1;34m\u001b[0m\n\u001b[0;32m     53\u001b[0m \u001b[1;33m\u001b[0m\u001b[0m\n\u001b[0;32m     54\u001b[0m                 \u001b[1;31m# 각 특징에다가 이미지 그리기\u001b[0m\u001b[1;33m\u001b[0m\u001b[1;33m\u001b[0m\u001b[0m\n\u001b[1;32m---> 55\u001b[1;33m                 \u001b[0mimage\u001b[0m\u001b[1;33m[\u001b[0m\u001b[0mright_eye\u001b[0m\u001b[1;33m[\u001b[0m\u001b[1;36m1\u001b[0m\u001b[1;33m]\u001b[0m \u001b[1;33m-\u001b[0m \u001b[1;36m50\u001b[0m\u001b[1;33m:\u001b[0m \u001b[0mright_eye\u001b[0m\u001b[1;33m[\u001b[0m\u001b[1;36m1\u001b[0m\u001b[1;33m]\u001b[0m \u001b[1;33m+\u001b[0m \u001b[1;36m50\u001b[0m\u001b[1;33m,\u001b[0m \u001b[0mright_eye\u001b[0m\u001b[1;33m[\u001b[0m\u001b[1;36m0\u001b[0m\u001b[1;33m]\u001b[0m \u001b[1;33m-\u001b[0m \u001b[1;36m50\u001b[0m \u001b[1;33m:\u001b[0m \u001b[0mright_eye\u001b[0m\u001b[1;33m[\u001b[0m\u001b[1;36m0\u001b[0m\u001b[1;33m]\u001b[0m \u001b[1;33m+\u001b[0m \u001b[1;36m50\u001b[0m\u001b[1;33m]\u001b[0m \u001b[1;33m=\u001b[0m \u001b[0mimage_right_eye\u001b[0m \u001b[1;31m#세로 : 가로 범위 설정\u001b[0m\u001b[1;33m\u001b[0m\u001b[1;33m\u001b[0m\u001b[0m\n\u001b[0m\u001b[0;32m     56\u001b[0m                 \u001b[0mimage\u001b[0m\u001b[1;33m[\u001b[0m\u001b[0mleft_eye\u001b[0m\u001b[1;33m[\u001b[0m\u001b[1;36m1\u001b[0m\u001b[1;33m]\u001b[0m \u001b[1;33m-\u001b[0m \u001b[1;36m50\u001b[0m\u001b[1;33m:\u001b[0m \u001b[0mleft_eye\u001b[0m\u001b[1;33m[\u001b[0m\u001b[1;36m1\u001b[0m\u001b[1;33m]\u001b[0m \u001b[1;33m+\u001b[0m \u001b[1;36m50\u001b[0m\u001b[1;33m,\u001b[0m \u001b[0mleft_eye\u001b[0m\u001b[1;33m[\u001b[0m\u001b[1;36m0\u001b[0m\u001b[1;33m]\u001b[0m \u001b[1;33m-\u001b[0m \u001b[1;36m50\u001b[0m \u001b[1;33m:\u001b[0m \u001b[0mleft_eye\u001b[0m\u001b[1;33m[\u001b[0m\u001b[1;36m0\u001b[0m\u001b[1;33m]\u001b[0m \u001b[1;33m+\u001b[0m \u001b[1;36m50\u001b[0m\u001b[1;33m]\u001b[0m \u001b[1;33m=\u001b[0m \u001b[0mimage_left_eye\u001b[0m\u001b[1;33m\u001b[0m\u001b[1;33m\u001b[0m\u001b[0m\n\u001b[0;32m     57\u001b[0m                 \u001b[0mimage\u001b[0m\u001b[1;33m[\u001b[0m\u001b[0mnose_tip\u001b[0m\u001b[1;33m[\u001b[0m\u001b[1;36m1\u001b[0m\u001b[1;33m]\u001b[0m \u001b[1;33m-\u001b[0m \u001b[1;36m50\u001b[0m\u001b[1;33m:\u001b[0m \u001b[0mnose_tip\u001b[0m\u001b[1;33m[\u001b[0m\u001b[1;36m1\u001b[0m\u001b[1;33m]\u001b[0m \u001b[1;33m+\u001b[0m \u001b[1;36m50\u001b[0m\u001b[1;33m,\u001b[0m \u001b[0mnose_tip\u001b[0m\u001b[1;33m[\u001b[0m\u001b[1;36m0\u001b[0m\u001b[1;33m]\u001b[0m \u001b[1;33m-\u001b[0m \u001b[1;36m150\u001b[0m \u001b[1;33m:\u001b[0m \u001b[0mnose_tip\u001b[0m\u001b[1;33m[\u001b[0m\u001b[1;36m0\u001b[0m\u001b[1;33m]\u001b[0m \u001b[1;33m+\u001b[0m \u001b[1;36m150\u001b[0m\u001b[1;33m]\u001b[0m \u001b[1;33m=\u001b[0m \u001b[0mimage_nose\u001b[0m\u001b[1;33m\u001b[0m\u001b[1;33m\u001b[0m\u001b[0m\n",
      "\u001b[1;31mTypeError\u001b[0m: int() argument must be a string, a bytes-like object or a number, not 'NoneType'"
     ]
    }
   ],
   "source": [
    "#라이브러리 설정\n",
    "import cv2\n",
    "import mediapipe as mp\n",
    "\n",
    "#얼굴을 찾고, 찾은 얼굴에 표시를 해주기 위한 변수 정의\n",
    "mp_face_detection = mp.solutions.face_detection  # 얼굴 검출을 위한 face_detection 모듈을 사용\n",
    "mp_drawing = mp.solutions.drawing_utils # 얼굴의 특징을 그리기 위한 drawing_utils 모듈을 사용\n",
    "\n",
    "# 동영상 파일 열기  or 웹캠 열기 가능 장치 ID\n",
    "cap = cv2.VideoCapture('face_video.mp4')\n",
    "\n",
    "#이미지 불러오기\n",
    "\n",
    "image_right_eye = cv2.imread('rifgt_eye.jpg') #100 x 100\n",
    "image_left_eye = cv2.imread('left_eye.jpg') #100 x 100\n",
    "image_nose = cv2.imread('nose.jpg') #300 x 100\n",
    "\n",
    "\n",
    "with mp_face_detection.FaceDetection(model_selection=0, min_detection_confidence=0.7) as face_detection:\n",
    "    #model_selection 옵션 0 or 1  0일경우 2m 이내 근거리 모델 인식 1일경우 원거리\n",
    "    #min_detection_confidence 0.5 이상일 경우 얼굴로 인식한다 임계값 개념 \n",
    "    \n",
    "    while cap.isOpened():\n",
    "        success, image = cap.read()\n",
    "        if not success:\n",
    "            break\n",
    "\n",
    "        # To improve performance, optionally mark the image as not writeable to\n",
    "        # pass by reference.\n",
    "        image.flags.writeable = False\n",
    "        image = cv2.cvtColor(image, cv2.COLOR_BGR2RGB)# mediapipe 는 RGB기준으로 처리함\n",
    "        results = face_detection.process(image)\n",
    "\n",
    "        # Draw the face detection annotations on the image.\n",
    "        image.flags.writeable = True\n",
    "        image = cv2.cvtColor(image, cv2.COLOR_RGB2BGR)\n",
    "        if results.detections:\n",
    "            #6개 특징 : 오른쪽 눈, 왼쪽 눈, 코 끝부분, 입 중심, 오른쪽 귀, 왼쪽 귀, (귀구슬점, 이주)\n",
    "            for detection in results.detections:\n",
    "                mp_drawing.draw_detection(image, detection)\n",
    "                #print(detection)\n",
    "                \n",
    "                # 특정 위치 가져오기\n",
    "                keypoints = detection.location_data.relative_keypoints\n",
    "                right_eye = keypoints[0] #오른쪽 눈\n",
    "                left_eye = keypoints[1] #왼쪽 눈\n",
    "                nose_tip = keypoints[2] #코 끝부분\n",
    "                \n",
    "                h, w, _ = image.shape # height, width, channel : 이미지로부터 세로, 가로 크기 가져옴\n",
    "                right_eye = (int(right_eye.x * w), int(right_eye.y * h)) #이미지 내에서 실제 좌표(x,y)\n",
    "                left_eye = (int(left_eye.x * w), int(left_eye.y * h))\n",
    "                nose_tip = (int(nose_tip.x *w), int(nose_tip.y * h))\n",
    "                \n",
    "                # 각 특징에다가 이미지 그리기\n",
    "                image[int(right_eye[1] - 50: right_eye[1] + 50), int(right_eye[0] - 50 : right_eye[0] + 50)] = image_right_eye #세로 : 가로 범위 설정\n",
    "                image[left_eye[1] - 50: left_eye[1] + 50, left_eye[0] - 50 : left_eye[0] + 50] = image_left_eye\n",
    "                image[nose_tip[1] - 50: nose_tip[1] + 50, nose_tip[0] - 150 : nose_tip[0] + 150] = image_nose\n",
    "                \n",
    "                \n",
    "        # Flip the image horizontally for a selfie-view display.\n",
    "        cv2.imshow('MediaPipe Face Detection', cv2.resize(image, None, fx = 1, fy =1))\n",
    "        \n",
    "        if cv2.waitKey(1) == ord('q'):\n",
    "            break\n",
    "            \n",
    "cap.release()\n",
    "cv2.destroyAllWindows()"
   ]
  },
  {
   "cell_type": "code",
   "execution_count": null,
   "id": "269a9238",
   "metadata": {},
   "outputs": [],
   "source": []
  },
  {
   "cell_type": "code",
   "execution_count": null,
   "id": "dcfef241",
   "metadata": {},
   "outputs": [],
   "source": []
  },
  {
   "cell_type": "code",
   "execution_count": null,
   "id": "05ae7a9d",
   "metadata": {},
   "outputs": [],
   "source": []
  },
  {
   "cell_type": "code",
   "execution_count": null,
   "id": "f2af43fd",
   "metadata": {},
   "outputs": [],
   "source": []
  },
  {
   "cell_type": "code",
   "execution_count": null,
   "id": "0230f01e",
   "metadata": {},
   "outputs": [],
   "source": []
  },
  {
   "cell_type": "code",
   "execution_count": null,
   "id": "fad438bb",
   "metadata": {},
   "outputs": [],
   "source": []
  }
 ],
 "metadata": {
  "kernelspec": {
   "display_name": "Python 3 (ipykernel)",
   "language": "python",
   "name": "python3"
  },
  "language_info": {
   "codemirror_mode": {
    "name": "ipython",
    "version": 3
   },
   "file_extension": ".py",
   "mimetype": "text/x-python",
   "name": "python",
   "nbconvert_exporter": "python",
   "pygments_lexer": "ipython3",
   "version": "3.9.7"
  }
 },
 "nbformat": 4,
 "nbformat_minor": 5
}
