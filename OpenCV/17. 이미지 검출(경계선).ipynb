{
 "cells": [
  {
   "cell_type": "markdown",
   "id": "13a5b691",
   "metadata": {},
   "source": [
    "# 17. 이미지 검출(경계선)"
   ]
  },
  {
   "cell_type": "markdown",
   "id": "269d3e75",
   "metadata": {},
   "source": [
    "## Canny Edge Detection"
   ]
  },
  {
   "cell_type": "code",
   "execution_count": 2,
   "id": "668793a9",
   "metadata": {},
   "outputs": [],
   "source": [
    "import cv2\n",
    "\n",
    "img = cv2.imread('snowman.png')\n",
    "\n",
    "\n",
    "canny = cv2.Canny(img, 150,200)\n",
    "#대상 이미지,minVal(하위임계값), maxVal(상위 임계값) \n",
    "\n",
    "cv2.imshow('img', img)\n",
    "cv2.imshow('canny',canny)\n",
    "cv2.waitKey(0)\n",
    "cv2.destroyAllWindows()"
   ]
  },
  {
   "cell_type": "markdown",
   "id": "838333d6",
   "metadata": {},
   "source": [
    "# Canny Track Bar"
   ]
  },
  {
   "cell_type": "code",
   "execution_count": 1,
   "id": "92b8bb75",
   "metadata": {},
   "outputs": [],
   "source": [
    "import cv2\n",
    "\n",
    "def empty(pos):\n",
    "    pass\n",
    "\n",
    "img = cv2.imread('snowman.png')\n",
    "\n",
    "name = \"TrackBar\"\n",
    "cv2.namedWindow(name)\n",
    "cv2.createTrackbar('threshodl1', name, 0, 255, empty) #minVal\n",
    "cv2.createTrackbar('threshodl2', name, 0, 255, empty) #maxVal\n",
    "\n",
    "\n",
    "while True :\n",
    "    threshold1 = cv2.getTrackbarPos('threshodl1',name)\n",
    "    threshold2 = cv2.getTrackbarPos('threshodl2',name)\n",
    "\n",
    "    canny = cv2.Canny(img, threshold1,threshold2)\n",
    "    #대상 이미지,minVal(하위임계값), maxVal(상위 임계값) \n",
    "    cv2.imshow('img', img)\n",
    "    cv2.imshow(name,canny)\n",
    "    \n",
    "    if cv2.waitKey(1) == ord('q'):\n",
    "        break\n",
    "        \n",
    "cv2.destroyAllWindows()"
   ]
  },
  {
   "cell_type": "code",
   "execution_count": null,
   "id": "60cb83ba",
   "metadata": {},
   "outputs": [],
   "source": []
  },
  {
   "cell_type": "code",
   "execution_count": null,
   "id": "67123589",
   "metadata": {},
   "outputs": [],
   "source": []
  },
  {
   "cell_type": "code",
   "execution_count": null,
   "id": "6e69bea4",
   "metadata": {},
   "outputs": [],
   "source": []
  }
 ],
 "metadata": {
  "kernelspec": {
   "display_name": "Python 3 (ipykernel)",
   "language": "python",
   "name": "python3"
  },
  "language_info": {
   "codemirror_mode": {
    "name": "ipython",
    "version": 3
   },
   "file_extension": ".py",
   "mimetype": "text/x-python",
   "name": "python",
   "nbconvert_exporter": "python",
   "pygments_lexer": "ipython3",
   "version": "3.9.7"
  }
 },
 "nbformat": 4,
 "nbformat_minor": 5
}
