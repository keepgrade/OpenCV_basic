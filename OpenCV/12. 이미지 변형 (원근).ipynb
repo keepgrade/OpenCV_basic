{
 "cells": [
  {
   "cell_type": "markdown",
   "id": "9ecc5c2b",
   "metadata": {},
   "source": [
    "# 12. 이미지 변형 (원근)"
   ]
  },
  {
   "cell_type": "markdown",
   "id": "9c22cfee",
   "metadata": {},
   "source": [
    "## 사다리꼴 이미지 펼치기"
   ]
  },
  {
   "cell_type": "code",
   "execution_count": 4,
   "id": "c4428cca",
   "metadata": {},
   "outputs": [],
   "source": [
    "import cv2\n",
    "import numpy as np\n",
    "\n",
    "img = cv2.imread('newpaper.jpg')\n",
    "\n",
    "width, height = 640, 240 #가로 크기 640, 세로 크기 240 으로 결과물 출력\n",
    "\n",
    "src = np.array([[511,352], [1008,345], [1122,584], [455,594]], dtype = np.float32)#input 4개의 지점 찾기\n",
    "dst = np.array([[0,0],[width,0],[width,height],[0,height]], dtype = np.float32)# output 4개의 지점\n",
    "#좌상, 우상, 우하, 좌하(시계 방향으로 4지점을 정의)\n",
    "\n",
    "\n",
    "matrix = cv2.getPerspectiveTransform(src, dst) #Matrix 얻어옴\n",
    "result = cv2.warpPerspective(img,matrix,(width,height))#matrix 대로 변환을 함\n",
    "\n",
    "cv2.imshow('NP', img)\n",
    "cv2.imshow('result',result)\n",
    "cv2.waitKey(0)\n",
    "cv2.destroyAllWindows()\n"
   ]
  },
  {
   "cell_type": "markdown",
   "id": "dfa320cf",
   "metadata": {},
   "source": [
    "## 회전된 이미지 올바로 세우기"
   ]
  },
  {
   "cell_type": "code",
   "execution_count": 6,
   "id": "47c76c96",
   "metadata": {},
   "outputs": [],
   "source": [
    "import cv2\n",
    "import numpy as np\n",
    "\n",
    "img = cv2.imread('poker.jpg')\n",
    "\n",
    "width, height = 530, 710 #가로 크기 530, 세로 크기 710 으로 결과물 출력\n",
    "\n",
    "src = np.array([[720,143], [1133, 414], [726,1007], [276,700]], dtype = np.float32)#input 4개의 지점 찾기\n",
    "dst = np.array([[0,0],[width,0],[width,height],[0,height]], dtype = np.float32)# output 4개의 지점\n",
    "#좌상, 우상, 우하, 좌하(시계 방향으로 4지점을 정의)\n",
    "\n",
    "\n",
    "matrix = cv2.getPerspectiveTransform(src, dst) #Matrix 얻어옴\n",
    "result = cv2.warpPerspective(img,matrix,(width,height))#matrix 대로 변환을 함\n",
    "\n",
    "cv2.imshow('NP', img)\n",
    "cv2.imshow('result',result)\n",
    "cv2.waitKey(0)\n",
    "cv2.destroyAllWindows()"
   ]
  }
 ],
 "metadata": {
  "kernelspec": {
   "display_name": "Python 3 (ipykernel)",
   "language": "python",
   "name": "python3"
  },
  "language_info": {
   "codemirror_mode": {
    "name": "ipython",
    "version": 3
   },
   "file_extension": ".py",
   "mimetype": "text/x-python",
   "name": "python",
   "nbconvert_exporter": "python",
   "pygments_lexer": "ipython3",
   "version": "3.9.7"
  }
 },
 "nbformat": 4,
 "nbformat_minor": 5
}
