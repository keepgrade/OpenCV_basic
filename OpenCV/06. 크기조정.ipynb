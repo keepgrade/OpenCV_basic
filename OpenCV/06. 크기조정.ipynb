{
 "cells": [
  {
   "cell_type": "markdown",
   "id": "733b1021",
   "metadata": {},
   "source": [
    "# 6. 크기조정"
   ]
  },
  {
   "cell_type": "markdown",
   "id": "26090d03",
   "metadata": {},
   "source": [
    "## 이미지\n",
    "\n",
    "### 고정 크기로 설정"
   ]
  },
  {
   "cell_type": "code",
   "execution_count": 1,
   "id": "f84a71f8",
   "metadata": {},
   "outputs": [],
   "source": [
    "import cv2\n",
    "\n",
    "img = cv2.imread('img.jpg')\n",
    "dst = cv2.resize(img, (400, 500)) # width, height 고정 크기\n",
    "\n",
    "cv2.imshow('img', img)\n",
    "cv2.imshow('resize', dst)\n",
    "cv2.waitKey(0)\n",
    "cv2.destroyAllWindows()"
   ]
  },
  {
   "cell_type": "markdown",
   "id": "d1f26279",
   "metadata": {},
   "source": [
    "### 비율로 설정"
   ]
  },
  {
   "cell_type": "code",
   "execution_count": 2,
   "id": "3cc54c43",
   "metadata": {},
   "outputs": [],
   "source": [
    "import cv2\n",
    "\n",
    "img = cv2.imread('img.jpg')\n",
    "dst = cv2.resize(img, None, fx = 0.5, fy = 0.5) # 비율로 축소\n",
    "\n",
    "cv2.imshow('img', img)\n",
    "cv2.imshow('resize', dst)\n",
    "cv2.waitKey(0)\n",
    "cv2.destroyAllWindows()"
   ]
  },
  {
   "cell_type": "markdown",
   "id": "f9c68639",
   "metadata": {},
   "source": [
    "### 보간법"
   ]
  },
  {
   "cell_type": "markdown",
   "id": "d6ab70e3",
   "metadata": {},
   "source": [
    "1. cv2.INTER_AREA : 크기 줄일 때 사용\n",
    "1. cv2.INTER_CUBIC : 크기 늘릴 때 사용 (속도 느림, 퀄리티 좋음)\n",
    "1. cv2.INTER_LINER : 크기 늘릴 때 사용 (기본값)"
   ]
  },
  {
   "cell_type": "markdown",
   "id": "62a2e7d9",
   "metadata": {},
   "source": [
    "#### 보간법 적용하여 축소"
   ]
  },
  {
   "cell_type": "code",
   "execution_count": 2,
   "id": "bbc9ca7d",
   "metadata": {},
   "outputs": [],
   "source": [
    "import cv2\n",
    "img = cv2.imread('img.jpg')\n",
    "dst = cv2.resize(img, None, fx =0.5, fy = 0.5, interpolation =cv2.INTER_AREA) #x,t 비율 정의 (0.5 배로 축소)\n",
    "\n",
    "cv2.imshow('img',img)\n",
    "cv2.imshow('resize', dst)\n",
    "cv2.waitKey(0)\n",
    "cv2.destroyAllWindows()"
   ]
  },
  {
   "cell_type": "markdown",
   "id": "b0c435ab",
   "metadata": {},
   "source": [
    "#### 보간법 적용하여 확대"
   ]
  },
  {
   "cell_type": "code",
   "execution_count": 3,
   "id": "eef61df8",
   "metadata": {},
   "outputs": [],
   "source": [
    "import cv2\n",
    "img = cv2.imread('img.jpg')\n",
    "dst = cv2.resize(img, None, fx =1.5, fy = 1.5, interpolation =cv2.INTER_CUBIC) #x,t 비율 정의 (0.5 배로 축소)\n",
    "\n",
    "cv2.imshow('img',img)\n",
    "cv2.imshow('resize', dst)\n",
    "cv2.waitKey(0)\n",
    "cv2.destroyAllWindows()"
   ]
  },
  {
   "cell_type": "markdown",
   "id": "5ac16fb4",
   "metadata": {},
   "source": [
    "### 동영상"
   ]
  },
  {
   "cell_type": "markdown",
   "id": "3a37b8af",
   "metadata": {},
   "source": [
    "#### 고정 크기로 설정"
   ]
  },
  {
   "cell_type": "code",
   "execution_count": 4,
   "id": "4f3a405b",
   "metadata": {},
   "outputs": [],
   "source": [
    "import cv2\n",
    "cap = cv2. VideoCapture('video.mp4')\n",
    "\n",
    "while cap.isOpened() : \n",
    "    ret, frame = cap.read() \n",
    "    if not ret :\n",
    "        break\n",
    "    \n",
    "    frame_resized = cv2.resize(frame, (400, 500))\n",
    "    cv2.imshow('video',frame_resized)\n",
    "    \n",
    "    if cv2.waitKey(1) == ord('q'):   \n",
    "        break\n",
    "\n",
    "cap.release() #자원 해제\n",
    "cv2.destroyAllWindows() #모든 창 닫기"
   ]
  },
  {
   "cell_type": "markdown",
   "id": "a9026ed8",
   "metadata": {},
   "source": [
    "#### 비율로 크기 설정"
   ]
  },
  {
   "cell_type": "code",
   "execution_count": 5,
   "id": "5a52c98f",
   "metadata": {},
   "outputs": [],
   "source": [
    "import cv2\n",
    "cap = cv2. VideoCapture('video.mp4')\n",
    "\n",
    "while cap.isOpened() : \n",
    "    ret, frame = cap.read() \n",
    "    if not ret :\n",
    "        break\n",
    "    \n",
    "    frame_resized = cv2.resize(frame, None, fx =1.5, fy  = 1.5, interpolation = cv2.INTER_CUBIC)\n",
    "    cv2.imshow('video',frame_resized)\n",
    "    \n",
    "    if cv2.waitKey(1) == ord('q'):   \n",
    "        break\n",
    "\n",
    "cap.release() #자원 해제\n",
    "cv2.destroyAllWindows() #모든 창 닫기"
   ]
  }
 ],
 "metadata": {
  "kernelspec": {
   "display_name": "Python 3 (ipykernel)",
   "language": "python",
   "name": "python3"
  },
  "language_info": {
   "codemirror_mode": {
    "name": "ipython",
    "version": 3
   },
   "file_extension": ".py",
   "mimetype": "text/x-python",
   "name": "python",
   "nbconvert_exporter": "python",
   "pygments_lexer": "ipython3",
   "version": "3.9.7"
  }
 },
 "nbformat": 4,
 "nbformat_minor": 5
}
