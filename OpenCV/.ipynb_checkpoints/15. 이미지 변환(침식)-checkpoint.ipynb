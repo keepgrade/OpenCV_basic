{
 "cells": [
  {
   "cell_type": "markdown",
   "id": "58022d63",
   "metadata": {},
   "source": [
    "# 이미지를 깎아서 노이즈 제거\n",
    "\n",
    "흰색 영역의 외각 픽셀을 검은색으로 변경\n",
    "\n",
    "침식(Erosion)"
   ]
  },
  {
   "cell_type": "code",
   "execution_count": null,
   "id": "49a681ad",
   "metadata": {},
   "outputs": [],
   "source": [
    "import cv2\n",
    "import numpy as np\n",
    "\n",
    "kernel = np.ones((3,3), dtype = np.uint8)\n",
    "\n",
    "img = cv2.imread('erode.png', cv2.IMREAD_GRAYSCALE)\n",
    "\n",
    "erode1 = cv2.erode(img, kernel, iterations =1)\n",
    "erode2 = cv2.erode(img, kernel, iterations =2)\n",
    "erode3 = cv2.erode(img, kernel, iterations =3)\n",
    "\n",
    "\n",
    "cv2.imshow('img', img)\n",
    "cv2.imshow('e1', erode1)\n",
    "cv2.imshow('e2', erode2)\n",
    "cv2.imshow('e3', erode3)\n",
    "cv2.waitKey(0)\n",
    "cv2.destoyAllWindows()"
   ]
  }
 ],
 "metadata": {
  "kernelspec": {
   "display_name": "Python 3 (ipykernel)",
   "language": "python",
   "name": "python3"
  },
  "language_info": {
   "codemirror_mode": {
    "name": "ipython",
    "version": 3
   },
   "file_extension": ".py",
   "mimetype": "text/x-python",
   "name": "python",
   "nbconvert_exporter": "python",
   "pygments_lexer": "ipython3",
   "version": "3.9.7"
  }
 },
 "nbformat": 4,
 "nbformat_minor": 5
}
