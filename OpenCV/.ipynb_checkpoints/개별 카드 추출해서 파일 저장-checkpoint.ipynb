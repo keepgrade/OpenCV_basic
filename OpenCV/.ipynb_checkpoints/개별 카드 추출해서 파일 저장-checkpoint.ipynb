{
 "cells": [
  {
   "cell_type": "markdown",
   "id": "973f86c9",
   "metadata": {},
   "source": [
    "# 미니 프로젝트 : 개별 카드 추출해서 파일 저장"
   ]
  },
  {
   "cell_type": "code",
   "execution_count": 3,
   "id": "21528ead",
   "metadata": {},
   "outputs": [],
   "source": [
    "import cv2\n",
    "img = cv2.imread('card.png')\n",
    "target_img = img.copy() \n",
    "\n",
    "gray = cv2.cvtColor(img, cv2.COLOR_BGR2GRAY)\n",
    "ret, otsu = cv2.threshold(gray, -1, 255, cv2.THRESH_BINARY | cv2.THRESH_OTSU)\n",
    "\n",
    "contours, hierarchy = cv2.findContours(otsu, cv2.RETR_LIST, cv2.CHAIN_APPROX_SIMPLE)\n",
    "\n",
    "\n",
    "COLOR = (0, 200, 0)\n",
    "THICKNESS = 2 \n",
    "\n",
    "idx = 1\n",
    "for cnt in contours :\n",
    "    if cv2.contourArea(cnt) > 25000 : # 면적이 크다면?\n",
    "        x, y, width, height = cv2.boundingRect(cnt)\n",
    "        cv2.rectangle(target_img, (x, y), (x+width, y+height), COLOR, 2) # 사각형 그리기\n",
    "        \n",
    "        crop = img[y:y+height, x:x+width]\n",
    "        cv2.imshow(f'card_crop_{idx}',crop) \n",
    "        cv2.imwrite(f'card_crop_{idx}.png',crop) #파일 저장\n",
    "        idx += 1\n",
    "\n",
    "\n",
    "cv2.imshow('card', img)\n",
    "cv2.imshow('contour',target_img )\n",
    "\n",
    "cv2.waitKey(0)\n",
    "cv2.destroyAllWindows()"
   ]
  }
 ],
 "metadata": {
  "kernelspec": {
   "display_name": "Python 3 (ipykernel)",
   "language": "python",
   "name": "python3"
  },
  "language_info": {
   "codemirror_mode": {
    "name": "ipython",
    "version": 3
   },
   "file_extension": ".py",
   "mimetype": "text/x-python",
   "name": "python",
   "nbconvert_exporter": "python",
   "pygments_lexer": "ipython3",
   "version": "3.9.7"
  }
 },
 "nbformat": 4,
 "nbformat_minor": 5
}
