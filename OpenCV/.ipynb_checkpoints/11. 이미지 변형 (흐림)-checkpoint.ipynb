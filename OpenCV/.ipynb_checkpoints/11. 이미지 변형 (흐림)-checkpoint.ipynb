{
 "cells": [
  {
   "cell_type": "markdown",
   "id": "1ac62b3e",
   "metadata": {},
   "source": [
    "# 11. 이미지 변형 (흐림)"
   ]
  },
  {
   "cell_type": "markdown",
   "id": "bee3a94b",
   "metadata": {},
   "source": [
    "## 가우시안 불러"
   ]
  },
  {
   "cell_type": "markdown",
   "id": "4fb4d451",
   "metadata": {},
   "source": [
    "이미지를 흐리게하고 노이즈를 제거해 이미지를 빠르게 연산할 수 있음"
   ]
  },
  {
   "cell_type": "markdown",
   "id": "f5641669",
   "metadata": {},
   "source": [
    "###  커널 사이즈 변화에 따른 흐림"
   ]
  },
  {
   "cell_type": "code",
   "execution_count": 2,
   "id": "ab885abe",
   "metadata": {},
   "outputs": [],
   "source": [
    "import cv2\n",
    "img = cv2.imread('img.jpg')\n",
    "\n",
    "#(3, 3) (5,5) (7,7)\n",
    "kernel_3 = cv2.GaussianBlur(img, (3,3),0)\n",
    "kernel_5 = cv2.GaussianBlur(img, (5,5),0)\n",
    "kernel_7 = cv2.GaussianBlur(img, (7,7),0)\n",
    "\n",
    "#커널 사이즈가 커질수록 흐림효과가 강하게 적용된다.\n",
    "\n",
    "cv2.imshow('img', img)\n",
    "cv2.imshow('kernel_3', kernel_3)\n",
    "cv2.imshow('kernel_5', kernel_5)\n",
    "cv2.imshow('kernel_7', kernel_7)\n",
    "cv2.waitKey(0)\n",
    "cv2.destroyAllWindows()"
   ]
  },
  {
   "cell_type": "markdown",
   "id": "2d7a7597",
   "metadata": {},
   "source": [
    "### 표준 편차 변화에 따른 흐림"
   ]
  },
  {
   "cell_type": "code",
   "execution_count": 4,
   "id": "522aa7fc",
   "metadata": {},
   "outputs": [],
   "source": [
    "import cv2\n",
    "img = cv2.imread('img.jpg')\n",
    "\n",
    "\n",
    "sigma_1 = cv2.GaussianBlur(img, (0,0),1)\n",
    "          #이미지, 커널크기, sigmaX-가우시안 커널의 x 방향의 표준 편차\n",
    "sigma_2 = cv2.GaussianBlur(img, (0,0),2)\n",
    "sigma_3 = cv2.GaussianBlur(img, (0,0),3)\n",
    "\n",
    "\n",
    "cv2.imshow('img', img)\n",
    "cv2.imshow('sigma_1', sigma_1)\n",
    "cv2.imshow('sigma_2', sigma_2)\n",
    "cv2.imshow('sigma_3', sigma_3)\n",
    "cv2.waitKey(0)\n",
    "cv2.destroyAllWindows()"
   ]
  }
 ],
 "metadata": {
  "kernelspec": {
   "display_name": "Python 3 (ipykernel)",
   "language": "python",
   "name": "python3"
  },
  "language_info": {
   "codemirror_mode": {
    "name": "ipython",
    "version": 3
   },
   "file_extension": ".py",
   "mimetype": "text/x-python",
   "name": "python",
   "nbconvert_exporter": "python",
   "pygments_lexer": "ipython3",
   "version": "3.9.7"
  }
 },
 "nbformat": 4,
 "nbformat_minor": 5
}
