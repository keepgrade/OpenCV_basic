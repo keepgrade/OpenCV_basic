{
 "cells": [
  {
   "cell_type": "markdown",
   "id": "36bdf17f",
   "metadata": {},
   "source": [
    "# 8. 이미지 대칭"
   ]
  },
  {
   "cell_type": "markdown",
   "id": "20850ae8",
   "metadata": {},
   "source": [
    "## 좌우 대칭"
   ]
  },
  {
   "cell_type": "code",
   "execution_count": 2,
   "id": "007f8f18",
   "metadata": {},
   "outputs": [],
   "source": [
    "import cv2\n",
    "img = cv2. imread('img.jpg') #해당 경로의 파일 읽어오기\n",
    "\n",
    "filp_horizontal = cv2.flip(img, 1) # filpCode > 0 : 좌우대칭\n",
    "\n",
    "\n",
    "cv2.imshow('img',img) #img라는 이름의 창에 img를 표시\n",
    "cv2.imshow('filp_horizontal',filp_horizontal)\n",
    "\n",
    "cv2.waitKey(0) #지정된 시간동안 사용자 키 입력 대기\n",
    "cv2.destroyAllWindows() #모든 창 닫기"
   ]
  },
  {
   "cell_type": "markdown",
   "id": "3137b43a",
   "metadata": {},
   "source": [
    "## 상하 대칭"
   ]
  },
  {
   "cell_type": "code",
   "execution_count": 3,
   "id": "beaafe61",
   "metadata": {},
   "outputs": [],
   "source": [
    "import cv2\n",
    "img = cv2.imread('img.jpg') #해당 경로의 파일 읽어오기\n",
    "\n",
    "filp_vertical = cv2.flip(img, 0) # filpCode = 0 : 상하대칭\n",
    "\n",
    "\n",
    "cv2.imshow('img',img) #img라는 이름의 창에 img를 표시\n",
    "cv2.imshow('filp_vertical',filp_vertical)\n",
    "\n",
    "cv2.waitKey(0) #지정된 시간동안 사용자 키 입력 대기\n",
    "cv2.destroyAllWindows() #모든 창 닫기"
   ]
  },
  {
   "cell_type": "markdown",
   "id": "b06d5c4b",
   "metadata": {},
   "source": [
    "## 상하좌우대칭"
   ]
  },
  {
   "cell_type": "code",
   "execution_count": 5,
   "id": "ebf270c6",
   "metadata": {},
   "outputs": [],
   "source": [
    "import cv2\n",
    "img = cv2. imread('img.jpg') #해당 경로의 파일 읽어오기\n",
    "\n",
    "filp_both = cv2.flip(img, -1) # filpCode < 0 : 상하좌우대칭\n",
    "\n",
    "\n",
    "cv2.imshow('img',img) #img라는 이름의 창에 img를 표시\n",
    "cv2.imshow('filp_both',filp_both)\n",
    "\n",
    "cv2.waitKey(0) #지정된 시간동안 사용자 키 입력 대기\n",
    "cv2.destroyAllWindows() #모든 창 닫기"
   ]
  },
  {
   "cell_type": "code",
   "execution_count": null,
   "id": "a43fb14e",
   "metadata": {},
   "outputs": [],
   "source": []
  },
  {
   "cell_type": "code",
   "execution_count": null,
   "id": "ca999918",
   "metadata": {},
   "outputs": [],
   "source": []
  }
 ],
 "metadata": {
  "kernelspec": {
   "display_name": "Python 3 (ipykernel)",
   "language": "python",
   "name": "python3"
  },
  "language_info": {
   "codemirror_mode": {
    "name": "ipython",
    "version": 3
   },
   "file_extension": ".py",
   "mimetype": "text/x-python",
   "name": "python",
   "nbconvert_exporter": "python",
   "pygments_lexer": "ipython3",
   "version": "3.9.7"
  }
 },
 "nbformat": 4,
 "nbformat_minor": 5
}
