{
 "cells": [
  {
   "cell_type": "markdown",
   "id": "2f9c02ee",
   "metadata": {},
   "source": [
    "# 9.이미지 회전"
   ]
  },
  {
   "cell_type": "markdown",
   "id": "248bf781",
   "metadata": {},
   "source": [
    "## 시계 방향 90도 회전"
   ]
  },
  {
   "cell_type": "code",
   "execution_count": 2,
   "id": "f8babd10",
   "metadata": {},
   "outputs": [],
   "source": [
    "import cv2\n",
    "img = cv2. imread('img.jpg') \n",
    "\n",
    "rotate_90 = cv2.rotate(img, cv2.ROTATE_90_CLOCKWISE) #시계 방향 90도 회전\n",
    "\n",
    "\n",
    "\n",
    "cv2.imshow('img',img)\n",
    "cv2.imshow('rotate_90',rotate_90)\n",
    "cv2.waitKey(0)\n",
    "cv2.destroyAllWindows()"
   ]
  },
  {
   "cell_type": "markdown",
   "id": "7afc7ba2",
   "metadata": {},
   "source": [
    "## 180도 회전"
   ]
  },
  {
   "cell_type": "code",
   "execution_count": 4,
   "id": "83408edf",
   "metadata": {},
   "outputs": [],
   "source": [
    "import cv2\n",
    "img = cv2. imread('img.jpg') \n",
    "\n",
    "rotate_180 = cv2.rotate(img, cv2.ROTATE_180) #시계 방향 180도 회전\n",
    "\n",
    "\n",
    "\n",
    "cv2.imshow('img',img)\n",
    "cv2.imshow('rotate_180',rotate_180)\n",
    "cv2.waitKey(0)\n",
    "cv2.destroyAllWindows()"
   ]
  },
  {
   "cell_type": "markdown",
   "id": "31c2964a",
   "metadata": {},
   "source": [
    "## 시계 반대 방향으로 90도 회전 (시계 방향으로 270도 회전)"
   ]
  },
  {
   "cell_type": "code",
   "execution_count": 6,
   "id": "bc50e702",
   "metadata": {},
   "outputs": [],
   "source": [
    "import cv2\n",
    "img = cv2. imread('img.jpg') \n",
    "\n",
    "rotate_270 = cv2.rotate(img, cv2.ROTATE_90_COUNTERCLOCKWISE) #반시계 방향 90도 회전\n",
    "\n",
    "\n",
    "\n",
    "cv2.imshow('img',img)\n",
    "cv2.imshow('rotate_270',rotate_270)\n",
    "cv2.waitKey(0)\n",
    "cv2.destroyAllWindows()"
   ]
  }
 ],
 "metadata": {
  "kernelspec": {
   "display_name": "Python 3 (ipykernel)",
   "language": "python",
   "name": "python3"
  },
  "language_info": {
   "codemirror_mode": {
    "name": "ipython",
    "version": 3
   },
   "file_extension": ".py",
   "mimetype": "text/x-python",
   "name": "python",
   "nbconvert_exporter": "python",
   "pygments_lexer": "ipython3",
   "version": "3.9.7"
  }
 },
 "nbformat": 4,
 "nbformat_minor": 5
}
