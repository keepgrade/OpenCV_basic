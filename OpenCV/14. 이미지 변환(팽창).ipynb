{
 "cells": [
  {
   "cell_type": "markdown",
   "id": "0ef74e93",
   "metadata": {},
   "source": [
    "# 14. 이미지 변환(팽창)"
   ]
  },
  {
   "cell_type": "markdown",
   "id": "ab381f54",
   "metadata": {},
   "source": [
    "## 이미지를 확장하여 작은 구멍을 채움\n",
    "\n",
    "흰색 영역의 외곽 픽셀 주변에 흰색 추가"
   ]
  },
  {
   "cell_type": "code",
   "execution_count": null,
   "id": "5dd9f043",
   "metadata": {},
   "outputs": [],
   "source": [
    "import cv2\n",
    "import numpy as np\n",
    "\n",
    "kernel = np.ones((3,3), dtype =np.uint8)\n",
    "#kernel\n",
    "\n",
    "img = cv2.imread('dilate.png', cv2.IMREAD_GRAYSCALE)\n",
    "\n",
    "dilate1 = cv2.dilate(img, kernel, iterations = 1) #반복 횟수\n",
    "dilate2 = cv2.dilate(img, kernel, iterations = 2) #반복 횟수\n",
    "dilate3 = cv2.dilate(img, kernel, iterations = 3) #반복 횟수\n",
    "#팽창을 통해 구멍을 매우기 \n",
    "\n",
    "cv2.imshow('gray', img)\n",
    "cv2.imshow('dilate1', dilate1)\n",
    "cv2.imshow('dilate2', dilate2)\n",
    "cv2.imshow('dilate3', dilate3)\n",
    "cv2.waitKey(0)\n",
    "cv2.destroyAllWindows()\n"
   ]
  }
 ],
 "metadata": {
  "kernelspec": {
   "display_name": "Python 3 (ipykernel)",
   "language": "python",
   "name": "python3"
  },
  "language_info": {
   "codemirror_mode": {
    "name": "ipython",
    "version": 3
   },
   "file_extension": ".py",
   "mimetype": "text/x-python",
   "name": "python",
   "nbconvert_exporter": "python",
   "pygments_lexer": "ipython3",
   "version": "3.9.7"
  }
 },
 "nbformat": 4,
 "nbformat_minor": 5
}
